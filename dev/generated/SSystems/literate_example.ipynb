{
 "cells": [
  {
   "cell_type": "markdown",
   "source": [
    "# S-System Module Demo\n",
    "\n",
    "First we want to load our package with `using`, we will also want some Catlab utilities."
   ],
   "metadata": {}
  },
  {
   "outputs": [],
   "cell_type": "code",
   "source": [
    "using AlgebraicMetabolism\n",
    "using AlgebraicMetabolism.SSystems\n",
    "using Catlab\n",
    "using Catlab.ACSets\n",
    "using Catlab.CategoricalAlgebra\n",
    "using Catlab.CategoricalAlgebra.CSets\n",
    "using Catlab.Graphics\n",
    "using Catlab.Graphics.Graphviz\n",
    "using Test"
   ],
   "metadata": {},
   "execution_count": 1
  },
  {
   "cell_type": "markdown",
   "source": [
    "The first step is to understand the data model of what an S-System model is\n",
    "\n",
    "There are sets:\n",
    "\n",
    " 1. V the vertices, which represent variables in the system\n",
    " 2. E₁ the edges that represent positive effects\n",
    " 3. E₂ the edges that represent negative effects\n",
    " 4. Names for using human readable variable names\n",
    " 5. Numbers for storing coefficients and exponents\n",
    "\n",
    "Then there are relationships:\n",
    " 1. src₁,tgt₁ for encoding a graph of positive effects\n",
    " 2. src₂,tgt₂ for encoding a graph of negative effects\n",
    " 3. g,h tell you the numeric value associated with the exponent of that edge\n",
    " 4. α,β are intrinsic parameters for the strength of effects per vertex\n",
    " 5. vname gives you the vertex names\n",
    "\n",
    "We did not name the edges, because they don't really have conceptual identities\n",
    "other than \"the interaction between x,y\" where x is the src and y is the target variables."
   ],
   "metadata": {}
  },
  {
   "outputs": [
    {
     "output_type": "execute_result",
     "data": {
      "text/plain": "Catlab.Graphics.Graphviz.Graph(\"G\", true, \"neato\", Catlab.Graphics.Graphviz.Statement[Catlab.Graphics.Graphviz.Node(\"n1\", OrderedCollections.OrderedDict{Symbol, Union{String, Catlab.Graphics.Graphviz.Html}}(:label => \"V\")), Catlab.Graphics.Graphviz.Node(\"n2\", OrderedCollections.OrderedDict{Symbol, Union{String, Catlab.Graphics.Graphviz.Html}}(:label => \"E₁\")), Catlab.Graphics.Graphviz.Node(\"n3\", OrderedCollections.OrderedDict{Symbol, Union{String, Catlab.Graphics.Graphviz.Html}}(:label => \"E₂\")), Catlab.Graphics.Graphviz.Node(\"n4\", OrderedCollections.OrderedDict{Symbol, Union{String, Catlab.Graphics.Graphviz.Html}}(:shape => \"point\", :xlabel => \"Name\")), Catlab.Graphics.Graphviz.Node(\"n5\", OrderedCollections.OrderedDict{Symbol, Union{String, Catlab.Graphics.Graphviz.Html}}(:shape => \"point\", :xlabel => \"Number\")), Catlab.Graphics.Graphviz.Edge(Catlab.Graphics.Graphviz.NodeID[Catlab.Graphics.Graphviz.NodeID(\"n2\", \"\", \"\"), Catlab.Graphics.Graphviz.NodeID(\"n1\", \"\", \"\")], OrderedCollections.OrderedDict{Symbol, Union{String, Catlab.Graphics.Graphviz.Html}}(:label => \"src₁\")), Catlab.Graphics.Graphviz.Edge(Catlab.Graphics.Graphviz.NodeID[Catlab.Graphics.Graphviz.NodeID(\"n2\", \"\", \"\"), Catlab.Graphics.Graphviz.NodeID(\"n1\", \"\", \"\")], OrderedCollections.OrderedDict{Symbol, Union{String, Catlab.Graphics.Graphviz.Html}}(:label => \"tgt₁\")), Catlab.Graphics.Graphviz.Edge(Catlab.Graphics.Graphviz.NodeID[Catlab.Graphics.Graphviz.NodeID(\"n3\", \"\", \"\"), Catlab.Graphics.Graphviz.NodeID(\"n1\", \"\", \"\")], OrderedCollections.OrderedDict{Symbol, Union{String, Catlab.Graphics.Graphviz.Html}}(:label => \"src₂\")), Catlab.Graphics.Graphviz.Edge(Catlab.Graphics.Graphviz.NodeID[Catlab.Graphics.Graphviz.NodeID(\"n3\", \"\", \"\"), Catlab.Graphics.Graphviz.NodeID(\"n1\", \"\", \"\")], OrderedCollections.OrderedDict{Symbol, Union{String, Catlab.Graphics.Graphviz.Html}}(:label => \"tgt₂\")), Catlab.Graphics.Graphviz.Edge(Catlab.Graphics.Graphviz.NodeID[Catlab.Graphics.Graphviz.NodeID(\"n1\", \"\", \"\"), Catlab.Graphics.Graphviz.NodeID(\"n4\", \"\", \"\")], OrderedCollections.OrderedDict{Symbol, Union{String, Catlab.Graphics.Graphviz.Html}}(:label => \"vname\")), Catlab.Graphics.Graphviz.Edge(Catlab.Graphics.Graphviz.NodeID[Catlab.Graphics.Graphviz.NodeID(\"n1\", \"\", \"\"), Catlab.Graphics.Graphviz.NodeID(\"n5\", \"\", \"\")], OrderedCollections.OrderedDict{Symbol, Union{String, Catlab.Graphics.Graphviz.Html}}(:label => \"α\")), Catlab.Graphics.Graphviz.Edge(Catlab.Graphics.Graphviz.NodeID[Catlab.Graphics.Graphviz.NodeID(\"n1\", \"\", \"\"), Catlab.Graphics.Graphviz.NodeID(\"n5\", \"\", \"\")], OrderedCollections.OrderedDict{Symbol, Union{String, Catlab.Graphics.Graphviz.Html}}(:label => \"β\")), Catlab.Graphics.Graphviz.Edge(Catlab.Graphics.Graphviz.NodeID[Catlab.Graphics.Graphviz.NodeID(\"n2\", \"\", \"\"), Catlab.Graphics.Graphviz.NodeID(\"n5\", \"\", \"\")], OrderedCollections.OrderedDict{Symbol, Union{String, Catlab.Graphics.Graphviz.Html}}(:label => \"g\")), Catlab.Graphics.Graphviz.Edge(Catlab.Graphics.Graphviz.NodeID[Catlab.Graphics.Graphviz.NodeID(\"n3\", \"\", \"\"), Catlab.Graphics.Graphviz.NodeID(\"n5\", \"\", \"\")], OrderedCollections.OrderedDict{Symbol, Union{String, Catlab.Graphics.Graphviz.Html}}(:label => \"h\"))], OrderedCollections.OrderedDict{Symbol, Union{String, Catlab.Graphics.Graphviz.Html}}(), OrderedCollections.OrderedDict{Symbol, Union{String, Catlab.Graphics.Graphviz.Html}}(:margin => \"0\", :shape => \"ellipse\"), OrderedCollections.OrderedDict{Symbol, Union{String, Catlab.Graphics.Graphviz.Html}}())",
      "image/svg+xml": [
       "<?xml version=\"1.0\" encoding=\"UTF-8\" standalone=\"no\"?>\n",
       "<!DOCTYPE svg PUBLIC \"-//W3C//DTD SVG 1.1//EN\"\n",
       " \"http://www.w3.org/Graphics/SVG/1.1/DTD/svg11.dtd\">\n",
       "<!-- Generated by graphviz version 2.43.0 (0)\n",
       " -->\n",
       "<!-- Title: G Pages: 1 -->\n",
       "<svg width=\"204pt\" height=\"174pt\"\n",
       " viewBox=\"0.00 0.00 203.93 174.31\" xmlns=\"http://www.w3.org/2000/svg\" xmlns:xlink=\"http://www.w3.org/1999/xlink\">\n",
       "<g id=\"graph0\" class=\"graph\" transform=\"scale(1 1) rotate(0) translate(4 170.31)\">\n",
       "<title>G</title>\n",
       "<polygon fill=\"white\" stroke=\"transparent\" points=\"-4,4 -4,-170.31 199.93,-170.31 199.93,4 -4,4\"/>\n",
       "<!-- n1 -->\n",
       "<g id=\"node1\" class=\"node\">\n",
       "<title>n1</title>\n",
       "<ellipse fill=\"none\" stroke=\"black\" cx=\"92.88\" cy=\"-90.73\" rx=\"27\" ry=\"18\"/>\n",
       "<text text-anchor=\"middle\" x=\"92.88\" y=\"-87.03\" font-family=\"Times,serif\" font-size=\"14.00\">V</text>\n",
       "</g>\n",
       "<!-- n4 -->\n",
       "<g id=\"node4\" class=\"node\">\n",
       "<title>n4</title>\n",
       "<ellipse fill=\"black\" stroke=\"black\" cx=\"44.8\" cy=\"-149.51\" rx=\"1.8\" ry=\"1.8\"/>\n",
       "<text text-anchor=\"middle\" x=\"21.5\" y=\"-155.11\" font-family=\"Times,serif\" font-size=\"14.00\">Name</text>\n",
       "</g>\n",
       "<!-- n1&#45;&gt;n4 -->\n",
       "<g id=\"edge5\" class=\"edge\">\n",
       "<title>n1&#45;&gt;n4</title>\n",
       "<path fill=\"none\" stroke=\"black\" d=\"M79.74,-106.79C70.95,-117.54 59.69,-131.31 52.36,-140.27\"/>\n",
       "<polygon fill=\"black\" stroke=\"black\" points=\"49.57,-138.15 45.95,-148.1 54.99,-142.58 49.57,-138.15\"/>\n",
       "<text text-anchor=\"middle\" x=\"42.05\" y=\"-127.33\" font-family=\"Times,serif\" font-size=\"14.00\">vname</text>\n",
       "</g>\n",
       "<!-- n5 -->\n",
       "<g id=\"node5\" class=\"node\">\n",
       "<title>n5</title>\n",
       "<ellipse fill=\"black\" stroke=\"black\" cx=\"138.24\" cy=\"-36.22\" rx=\"1.8\" ry=\"1.8\"/>\n",
       "<text text-anchor=\"middle\" x=\"165.94\" y=\"-23.22\" font-family=\"Times,serif\" font-size=\"14.00\">Number</text>\n",
       "</g>\n",
       "<!-- n1&#45;&gt;n5 -->\n",
       "<g id=\"edge6\" class=\"edge\">\n",
       "<title>n1&#45;&gt;n5</title>\n",
       "<path fill=\"none\" stroke=\"black\" d=\"M111.83,-77.81C120.67,-68.59 130.21,-56.42 135.29,-47.55\"/>\n",
       "<polygon fill=\"black\" stroke=\"black\" points=\"138.61,-48.66 138.95,-38.07 132.08,-46.13 138.61,-48.66\"/>\n",
       "<text text-anchor=\"middle\" x=\"128.56\" y=\"-66.48\" font-family=\"Times,serif\" font-size=\"14.00\">α</text>\n",
       "</g>\n",
       "<!-- n1&#45;&gt;n5 -->\n",
       "<g id=\"edge7\" class=\"edge\">\n",
       "<title>n1&#45;&gt;n5</title>\n",
       "<path fill=\"none\" stroke=\"black\" d=\"M99.75,-73.17C107.25,-62.1 118.82,-48.69 127.48,-41.32\"/>\n",
       "<polygon fill=\"black\" stroke=\"black\" points=\"129.52,-44.17 136.13,-35.89 125.8,-38.24 129.52,-44.17\"/>\n",
       "<text text-anchor=\"middle\" x=\"109.11\" y=\"-61.04\" font-family=\"Times,serif\" font-size=\"14.00\">β</text>\n",
       "</g>\n",
       "<!-- n2 -->\n",
       "<g id=\"node2\" class=\"node\">\n",
       "<title>n2</title>\n",
       "<ellipse fill=\"none\" stroke=\"black\" cx=\"168.93\" cy=\"-101.84\" rx=\"27\" ry=\"18\"/>\n",
       "<text text-anchor=\"middle\" x=\"168.93\" y=\"-98.14\" font-family=\"Times,serif\" font-size=\"14.00\">E₁</text>\n",
       "</g>\n",
       "<!-- n2&#45;&gt;n1 -->\n",
       "<g id=\"edge1\" class=\"edge\">\n",
       "<title>n2&#45;&gt;n1</title>\n",
       "<path fill=\"none\" stroke=\"black\" d=\"M145.78,-92.06C140.79,-91.01 135.39,-90.08 130.02,-89.34\"/>\n",
       "<polygon fill=\"black\" stroke=\"black\" points=\"130.16,-85.83 119.82,-88.15 129.35,-92.79 130.16,-85.83\"/>\n",
       "<text text-anchor=\"middle\" x=\"130.9\" y=\"-79.5\" font-family=\"Times,serif\" font-size=\"14.00\">src₁</text>\n",
       "</g>\n",
       "<!-- n2&#45;&gt;n1 -->\n",
       "<g id=\"edge2\" class=\"edge\">\n",
       "<title>n2&#45;&gt;n1</title>\n",
       "<path fill=\"none\" stroke=\"black\" d=\"M141.82,-104.4C136.65,-103.91 131.19,-103.2 125.86,-102.33\"/>\n",
       "<polygon fill=\"black\" stroke=\"black\" points=\"126.36,-98.87 115.89,-100.48 125.08,-105.75 126.36,-98.87\"/>\n",
       "<text text-anchor=\"middle\" x=\"120.34\" y=\"-107.16\" font-family=\"Times,serif\" font-size=\"14.00\">tgt₁</text>\n",
       "</g>\n",
       "<!-- n2&#45;&gt;n5 -->\n",
       "<g id=\"edge8\" class=\"edge\">\n",
       "<title>n2&#45;&gt;n5</title>\n",
       "<path fill=\"none\" stroke=\"black\" d=\"M160.87,-84.6C155.35,-72.81 148.2,-57.53 143.43,-47.33\"/>\n",
       "<polygon fill=\"black\" stroke=\"black\" points=\"146.57,-45.77 139.16,-38.2 140.23,-48.74 146.57,-45.77\"/>\n",
       "<text text-anchor=\"middle\" x=\"147.15\" y=\"-54.76\" font-family=\"Times,serif\" font-size=\"14.00\">g</text>\n",
       "</g>\n",
       "<!-- n3 -->\n",
       "<g id=\"node3\" class=\"node\">\n",
       "<title>n3</title>\n",
       "<ellipse fill=\"none\" stroke=\"black\" cx=\"68.11\" cy=\"-18\" rx=\"27\" ry=\"18\"/>\n",
       "<text text-anchor=\"middle\" x=\"68.11\" y=\"-14.3\" font-family=\"Times,serif\" font-size=\"14.00\">E₂</text>\n",
       "</g>\n",
       "<!-- n3&#45;&gt;n1 -->\n",
       "<g id=\"edge3\" class=\"edge\">\n",
       "<title>n3&#45;&gt;n1</title>\n",
       "<path fill=\"none\" stroke=\"black\" d=\"M68.28,-36.36C70.26,-45.06 73.55,-55.58 77.18,-65.05\"/>\n",
       "<polygon fill=\"black\" stroke=\"black\" points=\"74,-66.51 81.05,-74.42 80.47,-63.84 74,-66.51\"/>\n",
       "<text text-anchor=\"middle\" x=\"58.73\" y=\"-54.51\" font-family=\"Times,serif\" font-size=\"14.00\">src₂</text>\n",
       "</g>\n",
       "<!-- n3&#45;&gt;n1 -->\n",
       "<g id=\"edge4\" class=\"edge\">\n",
       "<title>n3&#45;&gt;n1</title>\n",
       "<path fill=\"none\" stroke=\"black\" d=\"M80,-34.43C83.71,-42.76 87.42,-53.08 90.17,-62.62\"/>\n",
       "<polygon fill=\"black\" stroke=\"black\" points=\"86.84,-63.72 92.75,-72.51 93.62,-61.96 86.84,-63.72\"/>\n",
       "<text text-anchor=\"middle\" x=\"98.59\" y=\"-37.32\" font-family=\"Times,serif\" font-size=\"14.00\">tgt₂</text>\n",
       "</g>\n",
       "<!-- n3&#45;&gt;n5 -->\n",
       "<g id=\"edge9\" class=\"edge\">\n",
       "<title>n3&#45;&gt;n5</title>\n",
       "<path fill=\"none\" stroke=\"black\" d=\"M93.43,-24.58C104.61,-27.48 117.22,-30.76 126.21,-33.1\"/>\n",
       "<polygon fill=\"black\" stroke=\"black\" points=\"125.64,-36.57 136.2,-35.69 127.4,-29.79 125.64,-36.57\"/>\n",
       "<text text-anchor=\"middle\" x=\"104.82\" y=\"-17.64\" font-family=\"Times,serif\" font-size=\"14.00\">h</text>\n",
       "</g>\n",
       "</g>\n",
       "</svg>\n"
      ]
     },
     "metadata": {},
     "execution_count": 2
    }
   ],
   "cell_type": "code",
   "source": [
    "to_graphviz(SchSystem)"
   ],
   "metadata": {},
   "execution_count": 2
  },
  {
   "cell_type": "markdown",
   "source": [
    "The schema definition is given in the following domain specific language (DSL) invented by Catlab.\n",
    "\n",
    "```julia\n",
    "@present SchMetabolicNet(FreeSchema) begin\n",
    "  (V, E₁, E₂)::Ob\n",
    "  src₁::Hom(E₁, V)\n",
    "  tgt₁::Hom(E₁, V)\n",
    "\n",
    "  src₂::Hom(E₂, V)\n",
    "  tgt₂::Hom(E₂, V)\n",
    "end\n",
    "\n",
    "@present SchSystem <: SchMetabolicNet begin\n",
    "  Name::AttrType\n",
    "\n",
    "  vname::Attr(V, Name)\n",
    "\n",
    "  Number::AttrType\n",
    "  α::Attr(V, Number)\n",
    "  β::Attr(V, Number)\n",
    "\n",
    "  g::Attr(E₁, Number)\n",
    "  h::Attr(E₂, Number)\n",
    "end\n",
    "```"
   ],
   "metadata": {}
  },
  {
   "cell_type": "markdown",
   "source": [
    "Once we define the schema, Catlab will generate a domain specific language for specifying models.\n",
    "This language isn't the easiest to write, but it is completely generated from the specification of the schema,\n",
    "and works for any type of model that you can build."
   ],
   "metadata": {}
  },
  {
   "outputs": [
    {
     "output_type": "execute_result",
     "data": {
      "text/plain": "AlgebraicMetabolism.SSystems.System{Rational} with elements V = 1:3, E₁ = 1:2, E₂ = 1:3, Name = 1:0, Number = 1:0\n┌───┬───────┬──────┬──────┐\n│\u001b[1m V │\u001b[1m vname │\u001b[1m    α │\u001b[1m    β │\n├───┼───────┼──────┼──────┤\n│ 1 │    x₁ │ 1//2 │ 1//3 │\n│ 2 │    x₂ │ 1//2 │ 1//5 │\n│ 3 │    x₃ │ 2//1 │ 2//5 │\n└───┴───────┴──────┴──────┘\n┌────┬──────┬──────┬───────┐\n│\u001b[1m E₁ │\u001b[1m src₁ │\u001b[1m tgt₁ │\u001b[1m     g │\n├────┼──────┼──────┼───────┤\n│  1 │    1 │    2 │  7//1 │\n│  2 │    2 │    3 │ 11//1 │\n└────┴──────┴──────┴───────┘\n┌────┬──────┬──────┬──────┐\n│\u001b[1m E₂ │\u001b[1m src₂ │\u001b[1m tgt₂ │\u001b[1m    h │\n├────┼──────┼──────┼──────┤\n│  1 │    1 │    2 │ 1//1 │\n│  2 │    2 │    3 │ 2//1 │\n│  3 │    3 │    3 │ 3//1 │\n└────┴──────┴──────┴──────┘\n",
      "text/html": [
       "<div class=\"c-set\">\n",
       "<span class=\"c-set-summary\">AlgebraicMetabolism.SSystems.System{Rational} with elements V = 1:3, E₁ = 1:2, E₂ = 1:3, Name = 1:0, Number = 1:0</span>\n",
       "<table>\n",
       "  <thead>\n",
       "    <tr class = \"header headerLastRow\">\n",
       "      <th class = \"rowNumber\" style = \"font-weight: bold; text-align: right;\">V</th>\n",
       "      <th style = \"text-align: right;\">vname</th>\n",
       "      <th style = \"text-align: right;\">α</th>\n",
       "      <th style = \"text-align: right;\">β</th>\n",
       "    </tr>\n",
       "  </thead>\n",
       "  <tbody>\n",
       "    <tr>\n",
       "      <td class = \"rowNumber\" style = \"font-weight: bold; text-align: right;\">1</td>\n",
       "      <td style = \"text-align: right;\">x₁</td>\n",
       "      <td style = \"text-align: right;\">1//2</td>\n",
       "      <td style = \"text-align: right;\">1//3</td>\n",
       "    </tr>\n",
       "    <tr>\n",
       "      <td class = \"rowNumber\" style = \"font-weight: bold; text-align: right;\">2</td>\n",
       "      <td style = \"text-align: right;\">x₂</td>\n",
       "      <td style = \"text-align: right;\">1//2</td>\n",
       "      <td style = \"text-align: right;\">1//5</td>\n",
       "    </tr>\n",
       "    <tr>\n",
       "      <td class = \"rowNumber\" style = \"font-weight: bold; text-align: right;\">3</td>\n",
       "      <td style = \"text-align: right;\">x₃</td>\n",
       "      <td style = \"text-align: right;\">2//1</td>\n",
       "      <td style = \"text-align: right;\">2//5</td>\n",
       "    </tr>\n",
       "  </tbody>\n",
       "</table>\n",
       "<table>\n",
       "  <thead>\n",
       "    <tr class = \"header headerLastRow\">\n",
       "      <th class = \"rowNumber\" style = \"font-weight: bold; text-align: right;\">E₁</th>\n",
       "      <th style = \"text-align: right;\">src₁</th>\n",
       "      <th style = \"text-align: right;\">tgt₁</th>\n",
       "      <th style = \"text-align: right;\">g</th>\n",
       "    </tr>\n",
       "  </thead>\n",
       "  <tbody>\n",
       "    <tr>\n",
       "      <td class = \"rowNumber\" style = \"font-weight: bold; text-align: right;\">1</td>\n",
       "      <td style = \"text-align: right;\">1</td>\n",
       "      <td style = \"text-align: right;\">2</td>\n",
       "      <td style = \"text-align: right;\">7//1</td>\n",
       "    </tr>\n",
       "    <tr>\n",
       "      <td class = \"rowNumber\" style = \"font-weight: bold; text-align: right;\">2</td>\n",
       "      <td style = \"text-align: right;\">2</td>\n",
       "      <td style = \"text-align: right;\">3</td>\n",
       "      <td style = \"text-align: right;\">11//1</td>\n",
       "    </tr>\n",
       "  </tbody>\n",
       "</table>\n",
       "<table>\n",
       "  <thead>\n",
       "    <tr class = \"header headerLastRow\">\n",
       "      <th class = \"rowNumber\" style = \"font-weight: bold; text-align: right;\">E₂</th>\n",
       "      <th style = \"text-align: right;\">src₂</th>\n",
       "      <th style = \"text-align: right;\">tgt₂</th>\n",
       "      <th style = \"text-align: right;\">h</th>\n",
       "    </tr>\n",
       "  </thead>\n",
       "  <tbody>\n",
       "    <tr>\n",
       "      <td class = \"rowNumber\" style = \"font-weight: bold; text-align: right;\">1</td>\n",
       "      <td style = \"text-align: right;\">1</td>\n",
       "      <td style = \"text-align: right;\">2</td>\n",
       "      <td style = \"text-align: right;\">1//1</td>\n",
       "    </tr>\n",
       "    <tr>\n",
       "      <td class = \"rowNumber\" style = \"font-weight: bold; text-align: right;\">2</td>\n",
       "      <td style = \"text-align: right;\">2</td>\n",
       "      <td style = \"text-align: right;\">3</td>\n",
       "      <td style = \"text-align: right;\">2//1</td>\n",
       "    </tr>\n",
       "    <tr>\n",
       "      <td class = \"rowNumber\" style = \"font-weight: bold; text-align: right;\">3</td>\n",
       "      <td style = \"text-align: right;\">3</td>\n",
       "      <td style = \"text-align: right;\">3</td>\n",
       "      <td style = \"text-align: right;\">3//1</td>\n",
       "    </tr>\n",
       "  </tbody>\n",
       "</table>\n",
       "</div>\n"
      ]
     },
     "metadata": {},
     "execution_count": 3
    }
   ],
   "cell_type": "code",
   "source": [
    "#Let's make our first model\n",
    "\n",
    "M = @acset System{Rational} begin\n",
    "  V = 3\n",
    "  E₁ = 2\n",
    "  E₂ = 3\n",
    "  vname = [:x₁, :x₂, :x₃]\n",
    "  α = [1//2, 1//2, 2]\n",
    "  β = [1//3, 1//5, 2//5]\n",
    "\n",
    "  src₁ = [1,2]\n",
    "  tgt₁ = [2,3]\n",
    "  g = [7,11]\n",
    "\n",
    "  src₂ = [1,2,3]\n",
    "  tgt₂ = [2,3,3]\n",
    "  h = [1,2,3]\n",
    "end"
   ],
   "metadata": {},
   "execution_count": 3
  },
  {
   "cell_type": "markdown",
   "source": [
    "We should visually inspect our model with graphviz rendering"
   ],
   "metadata": {}
  },
  {
   "outputs": [
    {
     "output_type": "execute_result",
     "data": {
      "text/plain": "Catlab.Graphics.Graphviz.Graph(\"G\", true, \"dot\", Catlab.Graphics.Graphviz.Statement[Catlab.Graphics.Graphviz.Node(\"n1\", OrderedCollections.OrderedDict{Symbol, Union{String, Catlab.Graphics.Graphviz.Html}}(:color => \"#6C9AC3\", :label => \"x₁[1//2:1//3]\", :shape => \"circle\")), Catlab.Graphics.Graphviz.Node(\"n2\", OrderedCollections.OrderedDict{Symbol, Union{String, Catlab.Graphics.Graphviz.Html}}(:color => \"#6C9AC3\", :label => \"x₂[1//2:1//5]\", :shape => \"circle\")), Catlab.Graphics.Graphviz.Node(\"n3\", OrderedCollections.OrderedDict{Symbol, Union{String, Catlab.Graphics.Graphviz.Html}}(:color => \"#6C9AC3\", :label => \"x₃[2//1:2//5]\", :shape => \"circle\")), Catlab.Graphics.Graphviz.Edge(Catlab.Graphics.Graphviz.NodeID[Catlab.Graphics.Graphviz.NodeID(\"n1\", \"\", \"\"), Catlab.Graphics.Graphviz.NodeID(\"n2\", \"\", \"\")], OrderedCollections.OrderedDict{Symbol, Union{String, Catlab.Graphics.Graphviz.Html}}(:label => \"7//1\")), Catlab.Graphics.Graphviz.Edge(Catlab.Graphics.Graphviz.NodeID[Catlab.Graphics.Graphviz.NodeID(\"n2\", \"\", \"\"), Catlab.Graphics.Graphviz.NodeID(\"n3\", \"\", \"\")], OrderedCollections.OrderedDict{Symbol, Union{String, Catlab.Graphics.Graphviz.Html}}(:label => \"11//1\")), Catlab.Graphics.Graphviz.Edge(Catlab.Graphics.Graphviz.NodeID[Catlab.Graphics.Graphviz.NodeID(\"n1\", \"\", \"\"), Catlab.Graphics.Graphviz.NodeID(\"n2\", \"\", \"\")], OrderedCollections.OrderedDict{Symbol, Union{String, Catlab.Graphics.Graphviz.Html}}(:constraint => \"false\", :label => \"1//1\", :style => \"dotted\")), Catlab.Graphics.Graphviz.Edge(Catlab.Graphics.Graphviz.NodeID[Catlab.Graphics.Graphviz.NodeID(\"n2\", \"\", \"\"), Catlab.Graphics.Graphviz.NodeID(\"n3\", \"\", \"\")], OrderedCollections.OrderedDict{Symbol, Union{String, Catlab.Graphics.Graphviz.Html}}(:constraint => \"false\", :label => \"2//1\", :style => \"dotted\")), Catlab.Graphics.Graphviz.Edge(Catlab.Graphics.Graphviz.NodeID[Catlab.Graphics.Graphviz.NodeID(\"n3\", \"\", \"\"), Catlab.Graphics.Graphviz.NodeID(\"n3\", \"\", \"\")], OrderedCollections.OrderedDict{Symbol, Union{String, Catlab.Graphics.Graphviz.Html}}(:constraint => \"false\", :label => \"3//1\", :style => \"dotted\"))], OrderedCollections.OrderedDict{Symbol, Union{String, Catlab.Graphics.Graphviz.Html}}(:rankdir => \"LR\"), OrderedCollections.OrderedDict{Symbol, Union{String, Catlab.Graphics.Graphviz.Html}}(:shape => \"plain\", :style => \"filled\"), OrderedCollections.OrderedDict{Symbol, Union{String, Catlab.Graphics.Graphviz.Html}}(:splines => \"splines\"))",
      "image/svg+xml": [
       "<?xml version=\"1.0\" encoding=\"UTF-8\" standalone=\"no\"?>\n",
       "<!DOCTYPE svg PUBLIC \"-//W3C//DTD SVG 1.1//EN\"\n",
       " \"http://www.w3.org/Graphics/SVG/1.1/DTD/svg11.dtd\">\n",
       "<!-- Generated by graphviz version 2.43.0 (0)\n",
       " -->\n",
       "<!-- Title: G Pages: 1 -->\n",
       "<svg width=\"531pt\" height=\"170pt\"\n",
       " viewBox=\"0.00 0.00 531.07 169.69\" xmlns=\"http://www.w3.org/2000/svg\" xmlns:xlink=\"http://www.w3.org/1999/xlink\">\n",
       "<g id=\"graph0\" class=\"graph\" transform=\"scale(1 1) rotate(0) translate(4 165.69)\">\n",
       "<title>G</title>\n",
       "<polygon fill=\"white\" stroke=\"transparent\" points=\"-4,4 -4,-165.69 527.07,-165.69 527.07,4 -4,4\"/>\n",
       "<!-- n1 -->\n",
       "<g id=\"node1\" class=\"node\">\n",
       "<title>n1</title>\n",
       "<ellipse fill=\"#6c9ac3\" stroke=\"#6c9ac3\" cx=\"64.34\" cy=\"-64.34\" rx=\"64.19\" ry=\"64.19\"/>\n",
       "<text text-anchor=\"middle\" x=\"64.34\" y=\"-60.64\" font-family=\"Times,serif\" font-size=\"14.00\">x₁[1//2:1//3]</text>\n",
       "</g>\n",
       "<!-- n2 -->\n",
       "<g id=\"node2\" class=\"node\">\n",
       "<title>n2</title>\n",
       "<ellipse fill=\"#6c9ac3\" stroke=\"#6c9ac3\" cx=\"257.03\" cy=\"-64.34\" rx=\"64.19\" ry=\"64.19\"/>\n",
       "<text text-anchor=\"middle\" x=\"257.03\" y=\"-60.64\" font-family=\"Times,serif\" font-size=\"14.00\">x₂[1//2:1//5]</text>\n",
       "</g>\n",
       "<!-- n1&#45;&gt;n2 -->\n",
       "<g id=\"edge1\" class=\"edge\">\n",
       "<title>n1&#45;&gt;n2</title>\n",
       "<path fill=\"none\" stroke=\"black\" d=\"M128.84,-64.34C145.96,-64.34 164.62,-64.34 182.25,-64.34\"/>\n",
       "<polygon fill=\"black\" stroke=\"black\" points=\"182.49,-67.84 192.49,-64.34 182.49,-60.84 182.49,-67.84\"/>\n",
       "<text text-anchor=\"middle\" x=\"160.69\" y=\"-68.14\" font-family=\"Times,serif\" font-size=\"14.00\">7//1</text>\n",
       "</g>\n",
       "<!-- n1&#45;&gt;n2 -->\n",
       "<g id=\"edge3\" class=\"edge\">\n",
       "<title>n1&#45;&gt;n2</title>\n",
       "<path fill=\"none\" stroke=\"black\" stroke-dasharray=\"1,5\" d=\"M126.47,-47.44C142.13,-44.83 158.99,-43.54 174.69,-45.34 177.93,-45.72 181.23,-46.17 184.55,-46.69\"/>\n",
       "<polygon fill=\"black\" stroke=\"black\" points=\"184.11,-50.17 194.56,-48.42 185.3,-43.27 184.11,-50.17\"/>\n",
       "<text text-anchor=\"middle\" x=\"160.69\" y=\"-49.14\" font-family=\"Times,serif\" font-size=\"14.00\">1//1</text>\n",
       "</g>\n",
       "<!-- n3 -->\n",
       "<g id=\"node3\" class=\"node\">\n",
       "<title>n3</title>\n",
       "<ellipse fill=\"#6c9ac3\" stroke=\"#6c9ac3\" cx=\"458.72\" cy=\"-64.34\" rx=\"64.19\" ry=\"64.19\"/>\n",
       "<text text-anchor=\"middle\" x=\"458.72\" y=\"-60.64\" font-family=\"Times,serif\" font-size=\"14.00\">x₃[2//1:2//5]</text>\n",
       "</g>\n",
       "<!-- n2&#45;&gt;n3 -->\n",
       "<g id=\"edge2\" class=\"edge\">\n",
       "<title>n2&#45;&gt;n3</title>\n",
       "<path fill=\"none\" stroke=\"black\" d=\"M321.49,-64.34C341.32,-64.34 363.37,-64.34 383.86,-64.34\"/>\n",
       "<polygon fill=\"black\" stroke=\"black\" points=\"384.09,-67.84 394.09,-64.34 384.09,-60.84 384.09,-67.84\"/>\n",
       "<text text-anchor=\"middle\" x=\"357.88\" y=\"-68.14\" font-family=\"Times,serif\" font-size=\"14.00\">11//1</text>\n",
       "</g>\n",
       "<!-- n2&#45;&gt;n3 -->\n",
       "<g id=\"edge4\" class=\"edge\">\n",
       "<title>n2&#45;&gt;n3</title>\n",
       "<path fill=\"none\" stroke=\"black\" stroke-dasharray=\"1,5\" d=\"M319.51,-48.42C326.18,-47.16 332.89,-46.09 339.38,-45.34 355.71,-43.46 360.04,-43.46 376.38,-45.34 379.62,-45.72 382.92,-46.17 386.24,-46.69\"/>\n",
       "<polygon fill=\"black\" stroke=\"black\" points=\"385.8,-50.17 396.25,-48.42 386.99,-43.27 385.8,-50.17\"/>\n",
       "<text text-anchor=\"middle\" x=\"357.88\" y=\"-49.14\" font-family=\"Times,serif\" font-size=\"14.00\">2//1</text>\n",
       "</g>\n",
       "<!-- n3&#45;&gt;n3 -->\n",
       "<g id=\"edge5\" class=\"edge\">\n",
       "<title>n3&#45;&gt;n3</title>\n",
       "<path fill=\"none\" stroke=\"black\" stroke-dasharray=\"1,5\" d=\"M440.87,-126.47C443,-138.31 448.96,-146.69 458.72,-146.69 465.44,-146.69 470.35,-142.73 473.45,-136.41\"/>\n",
       "<polygon fill=\"black\" stroke=\"black\" points=\"476.92,-137.06 476.57,-126.47 470.24,-134.96 476.92,-137.06\"/>\n",
       "<text text-anchor=\"middle\" x=\"458.72\" y=\"-150.49\" font-family=\"Times,serif\" font-size=\"14.00\">3//1</text>\n",
       "</g>\n",
       "</g>\n",
       "</svg>\n"
      ]
     },
     "metadata": {},
     "execution_count": 4
    }
   ],
   "cell_type": "code",
   "source": [
    "to_graphviz(M)"
   ],
   "metadata": {},
   "execution_count": 4
  },
  {
   "cell_type": "markdown",
   "source": [
    "We can compute the dynamics equation from the model with `dynamics_expr`"
   ],
   "metadata": {}
  },
  {
   "outputs": [
    {
     "output_type": "execute_result",
     "data": {
      "text/plain": "quote\n    \u001b[90m#= /home/runner/work/AlgebraicMetabolism.jl/AlgebraicMetabolism.jl/src/SSystems/dynamics.jl:51 =#\u001b[39m\n    d.x₁ = 1//2 * x₂ ^ 7//1 - 1//3 * x₂ ^ 1//1\n    d.x₂ = 1//2 * x₃ ^ 11//1 - 1//5 * x₃ ^ 2//1\n    d.x₃ = 2//1 - 2//5 * x₃ ^ 3//1\nend"
     },
     "metadata": {},
     "execution_count": 5
    }
   ],
   "cell_type": "code",
   "source": [
    "dynamics_expr(M)"
   ],
   "metadata": {},
   "execution_count": 5
  },
  {
   "cell_type": "markdown",
   "source": [
    "Because these models are defined as a presheaf category, they come with\n",
    "a lattice of subobjects. This works like subsets of a set, but will respect\n",
    "the connectivity structure of the model."
   ],
   "metadata": {}
  },
  {
   "outputs": [
    {
     "output_type": "execute_result",
     "data": {
      "text/plain": "Catlab.Graphics.Graphviz.Graph(\"G\", true, \"dot\", Catlab.Graphics.Graphviz.Statement[Catlab.Graphics.Graphviz.Node(\"n1\", OrderedCollections.OrderedDict{Symbol, Union{String, Catlab.Graphics.Graphviz.Html}}(:color => \"#6C9AC3\", :label => \"x₁[1//2:1//3]\", :shape => \"circle\")), Catlab.Graphics.Graphviz.Node(\"n2\", OrderedCollections.OrderedDict{Symbol, Union{String, Catlab.Graphics.Graphviz.Html}}(:color => \"#6C9AC3\", :label => \"x₂[1//2:1//5]\", :shape => \"circle\")), Catlab.Graphics.Graphviz.Node(\"n3\", OrderedCollections.OrderedDict{Symbol, Union{String, Catlab.Graphics.Graphviz.Html}}(:color => \"#6C9AC3\", :label => \"x₃[2//1:2//5]\", :shape => \"circle\"))], OrderedCollections.OrderedDict{Symbol, Union{String, Catlab.Graphics.Graphviz.Html}}(:rankdir => \"LR\"), OrderedCollections.OrderedDict{Symbol, Union{String, Catlab.Graphics.Graphviz.Html}}(:shape => \"plain\", :style => \"filled\"), OrderedCollections.OrderedDict{Symbol, Union{String, Catlab.Graphics.Graphviz.Html}}(:splines => \"splines\"))",
      "image/svg+xml": [
       "<?xml version=\"1.0\" encoding=\"UTF-8\" standalone=\"no\"?>\n",
       "<!DOCTYPE svg PUBLIC \"-//W3C//DTD SVG 1.1//EN\"\n",
       " \"http://www.w3.org/Graphics/SVG/1.1/DTD/svg11.dtd\">\n",
       "<!-- Generated by graphviz version 2.43.0 (0)\n",
       " -->\n",
       "<!-- Title: G Pages: 1 -->\n",
       "<svg width=\"137pt\" height=\"431pt\"\n",
       " viewBox=\"0.00 0.00 136.69 430.69\" xmlns=\"http://www.w3.org/2000/svg\" xmlns:xlink=\"http://www.w3.org/1999/xlink\">\n",
       "<g id=\"graph0\" class=\"graph\" transform=\"scale(1 1) rotate(0) translate(4 426.69)\">\n",
       "<title>G</title>\n",
       "<polygon fill=\"white\" stroke=\"transparent\" points=\"-4,4 -4,-426.69 132.69,-426.69 132.69,4 -4,4\"/>\n",
       "<!-- n1 -->\n",
       "<g id=\"node1\" class=\"node\">\n",
       "<title>n1</title>\n",
       "<ellipse fill=\"#6c9ac3\" stroke=\"#6c9ac3\" cx=\"64.34\" cy=\"-64.34\" rx=\"64.19\" ry=\"64.19\"/>\n",
       "<text text-anchor=\"middle\" x=\"64.34\" y=\"-60.64\" font-family=\"Times,serif\" font-size=\"14.00\">x₁[1//2:1//3]</text>\n",
       "</g>\n",
       "<!-- n2 -->\n",
       "<g id=\"node2\" class=\"node\">\n",
       "<title>n2</title>\n",
       "<ellipse fill=\"#6c9ac3\" stroke=\"#6c9ac3\" cx=\"64.34\" cy=\"-211.34\" rx=\"64.19\" ry=\"64.19\"/>\n",
       "<text text-anchor=\"middle\" x=\"64.34\" y=\"-207.64\" font-family=\"Times,serif\" font-size=\"14.00\">x₂[1//2:1//5]</text>\n",
       "</g>\n",
       "<!-- n3 -->\n",
       "<g id=\"node3\" class=\"node\">\n",
       "<title>n3</title>\n",
       "<ellipse fill=\"#6c9ac3\" stroke=\"#6c9ac3\" cx=\"64.34\" cy=\"-358.34\" rx=\"64.19\" ry=\"64.19\"/>\n",
       "<text text-anchor=\"middle\" x=\"64.34\" y=\"-354.64\" font-family=\"Times,serif\" font-size=\"14.00\">x₃[2//1:2//5]</text>\n",
       "</g>\n",
       "</g>\n",
       "</svg>\n"
      ]
     },
     "metadata": {},
     "execution_count": 6
    }
   ],
   "cell_type": "code",
   "source": [
    "X1 = Subobject(M, V=[1])\n",
    "X2 = Subobject(M, V=[2])\n",
    "X3 = Subobject(M, V=[3])\n",
    "\n",
    "draw_subobject(join(join(X1, X2), X3))"
   ],
   "metadata": {},
   "execution_count": 6
  },
  {
   "cell_type": "markdown",
   "source": [
    "From the isolate vertices shown above we can compute the \"model complement\"\n",
    "with the negation operator. For example, the complement of X3 is\n",
    "X1 and X2 and all their interactions."
   ],
   "metadata": {}
  },
  {
   "outputs": [
    {
     "output_type": "execute_result",
     "data": {
      "text/plain": "Catlab.Graphics.Graphviz.Graph(\"G\", true, \"dot\", Catlab.Graphics.Graphviz.Statement[Catlab.Graphics.Graphviz.Node(\"n1\", OrderedCollections.OrderedDict{Symbol, Union{String, Catlab.Graphics.Graphviz.Html}}(:color => \"#6C9AC3\", :label => \"x₁[1//2:1//3]\", :shape => \"circle\")), Catlab.Graphics.Graphviz.Node(\"n2\", OrderedCollections.OrderedDict{Symbol, Union{String, Catlab.Graphics.Graphviz.Html}}(:color => \"#6C9AC3\", :label => \"x₂[1//2:1//5]\", :shape => \"circle\")), Catlab.Graphics.Graphviz.Edge(Catlab.Graphics.Graphviz.NodeID[Catlab.Graphics.Graphviz.NodeID(\"n1\", \"\", \"\"), Catlab.Graphics.Graphviz.NodeID(\"n2\", \"\", \"\")], OrderedCollections.OrderedDict{Symbol, Union{String, Catlab.Graphics.Graphviz.Html}}(:label => \"7//1\")), Catlab.Graphics.Graphviz.Edge(Catlab.Graphics.Graphviz.NodeID[Catlab.Graphics.Graphviz.NodeID(\"n1\", \"\", \"\"), Catlab.Graphics.Graphviz.NodeID(\"n2\", \"\", \"\")], OrderedCollections.OrderedDict{Symbol, Union{String, Catlab.Graphics.Graphviz.Html}}(:constraint => \"false\", :label => \"1//1\", :style => \"dotted\"))], OrderedCollections.OrderedDict{Symbol, Union{String, Catlab.Graphics.Graphviz.Html}}(:rankdir => \"LR\"), OrderedCollections.OrderedDict{Symbol, Union{String, Catlab.Graphics.Graphviz.Html}}(:shape => \"plain\", :style => \"filled\"), OrderedCollections.OrderedDict{Symbol, Union{String, Catlab.Graphics.Graphviz.Html}}(:splines => \"splines\"))",
      "image/svg+xml": [
       "<?xml version=\"1.0\" encoding=\"UTF-8\" standalone=\"no\"?>\n",
       "<!DOCTYPE svg PUBLIC \"-//W3C//DTD SVG 1.1//EN\"\n",
       " \"http://www.w3.org/Graphics/SVG/1.1/DTD/svg11.dtd\">\n",
       "<!-- Generated by graphviz version 2.43.0 (0)\n",
       " -->\n",
       "<!-- Title: G Pages: 1 -->\n",
       "<svg width=\"329pt\" height=\"137pt\"\n",
       " viewBox=\"0.00 0.00 329.38 136.69\" xmlns=\"http://www.w3.org/2000/svg\" xmlns:xlink=\"http://www.w3.org/1999/xlink\">\n",
       "<g id=\"graph0\" class=\"graph\" transform=\"scale(1 1) rotate(0) translate(4 132.69)\">\n",
       "<title>G</title>\n",
       "<polygon fill=\"white\" stroke=\"transparent\" points=\"-4,4 -4,-132.69 325.38,-132.69 325.38,4 -4,4\"/>\n",
       "<!-- n1 -->\n",
       "<g id=\"node1\" class=\"node\">\n",
       "<title>n1</title>\n",
       "<ellipse fill=\"#6c9ac3\" stroke=\"#6c9ac3\" cx=\"64.34\" cy=\"-64.34\" rx=\"64.19\" ry=\"64.19\"/>\n",
       "<text text-anchor=\"middle\" x=\"64.34\" y=\"-60.64\" font-family=\"Times,serif\" font-size=\"14.00\">x₁[1//2:1//3]</text>\n",
       "</g>\n",
       "<!-- n2 -->\n",
       "<g id=\"node2\" class=\"node\">\n",
       "<title>n2</title>\n",
       "<ellipse fill=\"#6c9ac3\" stroke=\"#6c9ac3\" cx=\"257.03\" cy=\"-64.34\" rx=\"64.19\" ry=\"64.19\"/>\n",
       "<text text-anchor=\"middle\" x=\"257.03\" y=\"-60.64\" font-family=\"Times,serif\" font-size=\"14.00\">x₂[1//2:1//5]</text>\n",
       "</g>\n",
       "<!-- n1&#45;&gt;n2 -->\n",
       "<g id=\"edge1\" class=\"edge\">\n",
       "<title>n1&#45;&gt;n2</title>\n",
       "<path fill=\"none\" stroke=\"black\" d=\"M128.84,-64.34C145.96,-64.34 164.62,-64.34 182.25,-64.34\"/>\n",
       "<polygon fill=\"black\" stroke=\"black\" points=\"182.49,-67.84 192.49,-64.34 182.49,-60.84 182.49,-67.84\"/>\n",
       "<text text-anchor=\"middle\" x=\"160.69\" y=\"-68.14\" font-family=\"Times,serif\" font-size=\"14.00\">7//1</text>\n",
       "</g>\n",
       "<!-- n1&#45;&gt;n2 -->\n",
       "<g id=\"edge2\" class=\"edge\">\n",
       "<title>n1&#45;&gt;n2</title>\n",
       "<path fill=\"none\" stroke=\"black\" stroke-dasharray=\"1,5\" d=\"M126.82,-48.42C133.49,-47.16 140.21,-46.09 146.69,-45.34 159.07,-43.92 172.18,-44.43 184.86,-45.98\"/>\n",
       "<polygon fill=\"black\" stroke=\"black\" points=\"184.51,-49.47 194.91,-47.44 185.52,-42.54 184.51,-49.47\"/>\n",
       "<text text-anchor=\"middle\" x=\"160.69\" y=\"-49.14\" font-family=\"Times,serif\" font-size=\"14.00\">1//1</text>\n",
       "</g>\n",
       "</g>\n",
       "</svg>\n"
      ]
     },
     "metadata": {},
     "execution_count": 7
    }
   ],
   "cell_type": "code",
   "source": [
    "negate(X3) |> draw_subobject"
   ],
   "metadata": {},
   "execution_count": 7
  },
  {
   "cell_type": "markdown",
   "source": [
    "And the complement of X1 is X2 and X3 with all their interactions."
   ],
   "metadata": {}
  },
  {
   "outputs": [
    {
     "output_type": "execute_result",
     "data": {
      "text/plain": "Catlab.Graphics.Graphviz.Graph(\"G\", true, \"dot\", Catlab.Graphics.Graphviz.Statement[Catlab.Graphics.Graphviz.Node(\"n1\", OrderedCollections.OrderedDict{Symbol, Union{String, Catlab.Graphics.Graphviz.Html}}(:color => \"#6C9AC3\", :label => \"x₂[1//2:1//5]\", :shape => \"circle\")), Catlab.Graphics.Graphviz.Node(\"n2\", OrderedCollections.OrderedDict{Symbol, Union{String, Catlab.Graphics.Graphviz.Html}}(:color => \"#6C9AC3\", :label => \"x₃[2//1:2//5]\", :shape => \"circle\")), Catlab.Graphics.Graphviz.Edge(Catlab.Graphics.Graphviz.NodeID[Catlab.Graphics.Graphviz.NodeID(\"n1\", \"\", \"\"), Catlab.Graphics.Graphviz.NodeID(\"n2\", \"\", \"\")], OrderedCollections.OrderedDict{Symbol, Union{String, Catlab.Graphics.Graphviz.Html}}(:label => \"11//1\")), Catlab.Graphics.Graphviz.Edge(Catlab.Graphics.Graphviz.NodeID[Catlab.Graphics.Graphviz.NodeID(\"n1\", \"\", \"\"), Catlab.Graphics.Graphviz.NodeID(\"n2\", \"\", \"\")], OrderedCollections.OrderedDict{Symbol, Union{String, Catlab.Graphics.Graphviz.Html}}(:constraint => \"false\", :label => \"2//1\", :style => \"dotted\")), Catlab.Graphics.Graphviz.Edge(Catlab.Graphics.Graphviz.NodeID[Catlab.Graphics.Graphviz.NodeID(\"n2\", \"\", \"\"), Catlab.Graphics.Graphviz.NodeID(\"n2\", \"\", \"\")], OrderedCollections.OrderedDict{Symbol, Union{String, Catlab.Graphics.Graphviz.Html}}(:constraint => \"false\", :label => \"3//1\", :style => \"dotted\"))], OrderedCollections.OrderedDict{Symbol, Union{String, Catlab.Graphics.Graphviz.Html}}(:rankdir => \"LR\"), OrderedCollections.OrderedDict{Symbol, Union{String, Catlab.Graphics.Graphviz.Html}}(:shape => \"plain\", :style => \"filled\"), OrderedCollections.OrderedDict{Symbol, Union{String, Catlab.Graphics.Graphviz.Html}}(:splines => \"splines\"))",
      "image/svg+xml": [
       "<?xml version=\"1.0\" encoding=\"UTF-8\" standalone=\"no\"?>\n",
       "<!DOCTYPE svg PUBLIC \"-//W3C//DTD SVG 1.1//EN\"\n",
       " \"http://www.w3.org/Graphics/SVG/1.1/DTD/svg11.dtd\">\n",
       "<!-- Generated by graphviz version 2.43.0 (0)\n",
       " -->\n",
       "<!-- Title: G Pages: 1 -->\n",
       "<svg width=\"338pt\" height=\"170pt\"\n",
       " viewBox=\"0.00 0.00 338.38 169.69\" xmlns=\"http://www.w3.org/2000/svg\" xmlns:xlink=\"http://www.w3.org/1999/xlink\">\n",
       "<g id=\"graph0\" class=\"graph\" transform=\"scale(1 1) rotate(0) translate(4 165.69)\">\n",
       "<title>G</title>\n",
       "<polygon fill=\"white\" stroke=\"transparent\" points=\"-4,4 -4,-165.69 334.38,-165.69 334.38,4 -4,4\"/>\n",
       "<!-- n1 -->\n",
       "<g id=\"node1\" class=\"node\">\n",
       "<title>n1</title>\n",
       "<ellipse fill=\"#6c9ac3\" stroke=\"#6c9ac3\" cx=\"64.34\" cy=\"-64.34\" rx=\"64.19\" ry=\"64.19\"/>\n",
       "<text text-anchor=\"middle\" x=\"64.34\" y=\"-60.64\" font-family=\"Times,serif\" font-size=\"14.00\">x₂[1//2:1//5]</text>\n",
       "</g>\n",
       "<!-- n2 -->\n",
       "<g id=\"node2\" class=\"node\">\n",
       "<title>n2</title>\n",
       "<ellipse fill=\"#6c9ac3\" stroke=\"#6c9ac3\" cx=\"266.03\" cy=\"-64.34\" rx=\"64.19\" ry=\"64.19\"/>\n",
       "<text text-anchor=\"middle\" x=\"266.03\" y=\"-60.64\" font-family=\"Times,serif\" font-size=\"14.00\">x₃[2//1:2//5]</text>\n",
       "</g>\n",
       "<!-- n1&#45;&gt;n2 -->\n",
       "<g id=\"edge1\" class=\"edge\">\n",
       "<title>n1&#45;&gt;n2</title>\n",
       "<path fill=\"none\" stroke=\"black\" d=\"M128.8,-64.34C148.63,-64.34 170.69,-64.34 191.17,-64.34\"/>\n",
       "<polygon fill=\"black\" stroke=\"black\" points=\"191.4,-67.84 201.4,-64.34 191.4,-60.84 191.4,-67.84\"/>\n",
       "<text text-anchor=\"middle\" x=\"165.19\" y=\"-68.14\" font-family=\"Times,serif\" font-size=\"14.00\">11//1</text>\n",
       "</g>\n",
       "<!-- n1&#45;&gt;n2 -->\n",
       "<g id=\"edge2\" class=\"edge\">\n",
       "<title>n1&#45;&gt;n2</title>\n",
       "<path fill=\"none\" stroke=\"black\" stroke-dasharray=\"1,5\" d=\"M126.82,-48.42C133.49,-47.16 140.21,-46.09 146.69,-45.34 163.02,-43.46 167.35,-43.46 183.69,-45.34 186.93,-45.72 190.23,-46.17 193.55,-46.69\"/>\n",
       "<polygon fill=\"black\" stroke=\"black\" points=\"193.11,-50.17 203.56,-48.42 194.3,-43.27 193.11,-50.17\"/>\n",
       "<text text-anchor=\"middle\" x=\"165.19\" y=\"-49.14\" font-family=\"Times,serif\" font-size=\"14.00\">2//1</text>\n",
       "</g>\n",
       "<!-- n2&#45;&gt;n2 -->\n",
       "<g id=\"edge3\" class=\"edge\">\n",
       "<title>n2&#45;&gt;n2</title>\n",
       "<path fill=\"none\" stroke=\"black\" stroke-dasharray=\"1,5\" d=\"M248.18,-126.47C250.32,-138.31 256.27,-146.69 266.03,-146.69 272.75,-146.69 277.66,-142.73 280.77,-136.41\"/>\n",
       "<polygon fill=\"black\" stroke=\"black\" points=\"284.23,-137.06 283.89,-126.47 277.55,-134.96 284.23,-137.06\"/>\n",
       "<text text-anchor=\"middle\" x=\"266.03\" y=\"-150.49\" font-family=\"Times,serif\" font-size=\"14.00\">3//1</text>\n",
       "</g>\n",
       "</g>\n",
       "</svg>\n"
      ]
     },
     "metadata": {},
     "execution_count": 8
    }
   ],
   "cell_type": "code",
   "source": [
    "negate(X1) |> draw_subobject"
   ],
   "metadata": {},
   "execution_count": 8
  },
  {
   "cell_type": "markdown",
   "source": [
    "The meet and join operators play the role of union and intersection"
   ],
   "metadata": {}
  },
  {
   "outputs": [
    {
     "output_type": "execute_result",
     "data": {
      "text/plain": "Catlab.Graphics.Graphviz.Graph(\"G\", true, \"dot\", Catlab.Graphics.Graphviz.Statement[Catlab.Graphics.Graphviz.Node(\"n1\", OrderedCollections.OrderedDict{Symbol, Union{String, Catlab.Graphics.Graphviz.Html}}(:color => \"#6C9AC3\", :label => \"x₂[1//2:1//5]\", :shape => \"circle\"))], OrderedCollections.OrderedDict{Symbol, Union{String, Catlab.Graphics.Graphviz.Html}}(:rankdir => \"LR\"), OrderedCollections.OrderedDict{Symbol, Union{String, Catlab.Graphics.Graphviz.Html}}(:shape => \"plain\", :style => \"filled\"), OrderedCollections.OrderedDict{Symbol, Union{String, Catlab.Graphics.Graphviz.Html}}(:splines => \"splines\"))",
      "image/svg+xml": [
       "<?xml version=\"1.0\" encoding=\"UTF-8\" standalone=\"no\"?>\n",
       "<!DOCTYPE svg PUBLIC \"-//W3C//DTD SVG 1.1//EN\"\n",
       " \"http://www.w3.org/Graphics/SVG/1.1/DTD/svg11.dtd\">\n",
       "<!-- Generated by graphviz version 2.43.0 (0)\n",
       " -->\n",
       "<!-- Title: G Pages: 1 -->\n",
       "<svg width=\"137pt\" height=\"137pt\"\n",
       " viewBox=\"0.00 0.00 136.69 136.69\" xmlns=\"http://www.w3.org/2000/svg\" xmlns:xlink=\"http://www.w3.org/1999/xlink\">\n",
       "<g id=\"graph0\" class=\"graph\" transform=\"scale(1 1) rotate(0) translate(4 132.69)\">\n",
       "<title>G</title>\n",
       "<polygon fill=\"white\" stroke=\"transparent\" points=\"-4,4 -4,-132.69 132.69,-132.69 132.69,4 -4,4\"/>\n",
       "<!-- n1 -->\n",
       "<g id=\"node1\" class=\"node\">\n",
       "<title>n1</title>\n",
       "<ellipse fill=\"#6c9ac3\" stroke=\"#6c9ac3\" cx=\"64.34\" cy=\"-64.34\" rx=\"64.19\" ry=\"64.19\"/>\n",
       "<text text-anchor=\"middle\" x=\"64.34\" y=\"-60.64\" font-family=\"Times,serif\" font-size=\"14.00\">x₂[1//2:1//5]</text>\n",
       "</g>\n",
       "</g>\n",
       "</svg>\n"
      ]
     },
     "metadata": {},
     "execution_count": 9
    }
   ],
   "cell_type": "code",
   "source": [
    "meet(negate(X3), negate(X1)) |> draw_subobject"
   ],
   "metadata": {},
   "execution_count": 9
  },
  {
   "cell_type": "markdown",
   "source": [
    "But I always forget which is which!"
   ],
   "metadata": {}
  },
  {
   "outputs": [
    {
     "output_type": "execute_result",
     "data": {
      "text/plain": "Catlab.Graphics.Graphviz.Graph(\"G\", true, \"dot\", Catlab.Graphics.Graphviz.Statement[Catlab.Graphics.Graphviz.Node(\"n1\", OrderedCollections.OrderedDict{Symbol, Union{String, Catlab.Graphics.Graphviz.Html}}(:color => \"#6C9AC3\", :label => \"x₁[1//2:1//3]\", :shape => \"circle\")), Catlab.Graphics.Graphviz.Node(\"n2\", OrderedCollections.OrderedDict{Symbol, Union{String, Catlab.Graphics.Graphviz.Html}}(:color => \"#6C9AC3\", :label => \"x₂[1//2:1//5]\", :shape => \"circle\")), Catlab.Graphics.Graphviz.Node(\"n3\", OrderedCollections.OrderedDict{Symbol, Union{String, Catlab.Graphics.Graphviz.Html}}(:color => \"#6C9AC3\", :label => \"x₃[2//1:2//5]\", :shape => \"circle\")), Catlab.Graphics.Graphviz.Edge(Catlab.Graphics.Graphviz.NodeID[Catlab.Graphics.Graphviz.NodeID(\"n1\", \"\", \"\"), Catlab.Graphics.Graphviz.NodeID(\"n2\", \"\", \"\")], OrderedCollections.OrderedDict{Symbol, Union{String, Catlab.Graphics.Graphviz.Html}}(:label => \"7//1\")), Catlab.Graphics.Graphviz.Edge(Catlab.Graphics.Graphviz.NodeID[Catlab.Graphics.Graphviz.NodeID(\"n2\", \"\", \"\"), Catlab.Graphics.Graphviz.NodeID(\"n3\", \"\", \"\")], OrderedCollections.OrderedDict{Symbol, Union{String, Catlab.Graphics.Graphviz.Html}}(:label => \"11//1\")), Catlab.Graphics.Graphviz.Edge(Catlab.Graphics.Graphviz.NodeID[Catlab.Graphics.Graphviz.NodeID(\"n1\", \"\", \"\"), Catlab.Graphics.Graphviz.NodeID(\"n2\", \"\", \"\")], OrderedCollections.OrderedDict{Symbol, Union{String, Catlab.Graphics.Graphviz.Html}}(:constraint => \"false\", :label => \"1//1\", :style => \"dotted\")), Catlab.Graphics.Graphviz.Edge(Catlab.Graphics.Graphviz.NodeID[Catlab.Graphics.Graphviz.NodeID(\"n2\", \"\", \"\"), Catlab.Graphics.Graphviz.NodeID(\"n3\", \"\", \"\")], OrderedCollections.OrderedDict{Symbol, Union{String, Catlab.Graphics.Graphviz.Html}}(:constraint => \"false\", :label => \"2//1\", :style => \"dotted\")), Catlab.Graphics.Graphviz.Edge(Catlab.Graphics.Graphviz.NodeID[Catlab.Graphics.Graphviz.NodeID(\"n3\", \"\", \"\"), Catlab.Graphics.Graphviz.NodeID(\"n3\", \"\", \"\")], OrderedCollections.OrderedDict{Symbol, Union{String, Catlab.Graphics.Graphviz.Html}}(:constraint => \"false\", :label => \"3//1\", :style => \"dotted\"))], OrderedCollections.OrderedDict{Symbol, Union{String, Catlab.Graphics.Graphviz.Html}}(:rankdir => \"LR\"), OrderedCollections.OrderedDict{Symbol, Union{String, Catlab.Graphics.Graphviz.Html}}(:shape => \"plain\", :style => \"filled\"), OrderedCollections.OrderedDict{Symbol, Union{String, Catlab.Graphics.Graphviz.Html}}(:splines => \"splines\"))",
      "image/svg+xml": [
       "<?xml version=\"1.0\" encoding=\"UTF-8\" standalone=\"no\"?>\n",
       "<!DOCTYPE svg PUBLIC \"-//W3C//DTD SVG 1.1//EN\"\n",
       " \"http://www.w3.org/Graphics/SVG/1.1/DTD/svg11.dtd\">\n",
       "<!-- Generated by graphviz version 2.43.0 (0)\n",
       " -->\n",
       "<!-- Title: G Pages: 1 -->\n",
       "<svg width=\"531pt\" height=\"170pt\"\n",
       " viewBox=\"0.00 0.00 531.07 169.69\" xmlns=\"http://www.w3.org/2000/svg\" xmlns:xlink=\"http://www.w3.org/1999/xlink\">\n",
       "<g id=\"graph0\" class=\"graph\" transform=\"scale(1 1) rotate(0) translate(4 165.69)\">\n",
       "<title>G</title>\n",
       "<polygon fill=\"white\" stroke=\"transparent\" points=\"-4,4 -4,-165.69 527.07,-165.69 527.07,4 -4,4\"/>\n",
       "<!-- n1 -->\n",
       "<g id=\"node1\" class=\"node\">\n",
       "<title>n1</title>\n",
       "<ellipse fill=\"#6c9ac3\" stroke=\"#6c9ac3\" cx=\"64.34\" cy=\"-64.34\" rx=\"64.19\" ry=\"64.19\"/>\n",
       "<text text-anchor=\"middle\" x=\"64.34\" y=\"-60.64\" font-family=\"Times,serif\" font-size=\"14.00\">x₁[1//2:1//3]</text>\n",
       "</g>\n",
       "<!-- n2 -->\n",
       "<g id=\"node2\" class=\"node\">\n",
       "<title>n2</title>\n",
       "<ellipse fill=\"#6c9ac3\" stroke=\"#6c9ac3\" cx=\"257.03\" cy=\"-64.34\" rx=\"64.19\" ry=\"64.19\"/>\n",
       "<text text-anchor=\"middle\" x=\"257.03\" y=\"-60.64\" font-family=\"Times,serif\" font-size=\"14.00\">x₂[1//2:1//5]</text>\n",
       "</g>\n",
       "<!-- n1&#45;&gt;n2 -->\n",
       "<g id=\"edge1\" class=\"edge\">\n",
       "<title>n1&#45;&gt;n2</title>\n",
       "<path fill=\"none\" stroke=\"black\" d=\"M128.84,-64.34C145.96,-64.34 164.62,-64.34 182.25,-64.34\"/>\n",
       "<polygon fill=\"black\" stroke=\"black\" points=\"182.49,-67.84 192.49,-64.34 182.49,-60.84 182.49,-67.84\"/>\n",
       "<text text-anchor=\"middle\" x=\"160.69\" y=\"-68.14\" font-family=\"Times,serif\" font-size=\"14.00\">7//1</text>\n",
       "</g>\n",
       "<!-- n1&#45;&gt;n2 -->\n",
       "<g id=\"edge3\" class=\"edge\">\n",
       "<title>n1&#45;&gt;n2</title>\n",
       "<path fill=\"none\" stroke=\"black\" stroke-dasharray=\"1,5\" d=\"M126.47,-47.44C142.13,-44.83 158.99,-43.54 174.69,-45.34 177.93,-45.72 181.23,-46.17 184.55,-46.69\"/>\n",
       "<polygon fill=\"black\" stroke=\"black\" points=\"184.11,-50.17 194.56,-48.42 185.3,-43.27 184.11,-50.17\"/>\n",
       "<text text-anchor=\"middle\" x=\"160.69\" y=\"-49.14\" font-family=\"Times,serif\" font-size=\"14.00\">1//1</text>\n",
       "</g>\n",
       "<!-- n3 -->\n",
       "<g id=\"node3\" class=\"node\">\n",
       "<title>n3</title>\n",
       "<ellipse fill=\"#6c9ac3\" stroke=\"#6c9ac3\" cx=\"458.72\" cy=\"-64.34\" rx=\"64.19\" ry=\"64.19\"/>\n",
       "<text text-anchor=\"middle\" x=\"458.72\" y=\"-60.64\" font-family=\"Times,serif\" font-size=\"14.00\">x₃[2//1:2//5]</text>\n",
       "</g>\n",
       "<!-- n2&#45;&gt;n3 -->\n",
       "<g id=\"edge2\" class=\"edge\">\n",
       "<title>n2&#45;&gt;n3</title>\n",
       "<path fill=\"none\" stroke=\"black\" d=\"M321.49,-64.34C341.32,-64.34 363.37,-64.34 383.86,-64.34\"/>\n",
       "<polygon fill=\"black\" stroke=\"black\" points=\"384.09,-67.84 394.09,-64.34 384.09,-60.84 384.09,-67.84\"/>\n",
       "<text text-anchor=\"middle\" x=\"357.88\" y=\"-68.14\" font-family=\"Times,serif\" font-size=\"14.00\">11//1</text>\n",
       "</g>\n",
       "<!-- n2&#45;&gt;n3 -->\n",
       "<g id=\"edge4\" class=\"edge\">\n",
       "<title>n2&#45;&gt;n3</title>\n",
       "<path fill=\"none\" stroke=\"black\" stroke-dasharray=\"1,5\" d=\"M319.51,-48.42C326.18,-47.16 332.89,-46.09 339.38,-45.34 355.71,-43.46 360.04,-43.46 376.38,-45.34 379.62,-45.72 382.92,-46.17 386.24,-46.69\"/>\n",
       "<polygon fill=\"black\" stroke=\"black\" points=\"385.8,-50.17 396.25,-48.42 386.99,-43.27 385.8,-50.17\"/>\n",
       "<text text-anchor=\"middle\" x=\"357.88\" y=\"-49.14\" font-family=\"Times,serif\" font-size=\"14.00\">2//1</text>\n",
       "</g>\n",
       "<!-- n3&#45;&gt;n3 -->\n",
       "<g id=\"edge5\" class=\"edge\">\n",
       "<title>n3&#45;&gt;n3</title>\n",
       "<path fill=\"none\" stroke=\"black\" stroke-dasharray=\"1,5\" d=\"M440.87,-126.47C443,-138.31 448.96,-146.69 458.72,-146.69 465.44,-146.69 470.35,-142.73 473.45,-136.41\"/>\n",
       "<polygon fill=\"black\" stroke=\"black\" points=\"476.92,-137.06 476.57,-126.47 470.24,-134.96 476.92,-137.06\"/>\n",
       "<text text-anchor=\"middle\" x=\"458.72\" y=\"-150.49\" font-family=\"Times,serif\" font-size=\"14.00\">3//1</text>\n",
       "</g>\n",
       "</g>\n",
       "</svg>\n"
      ]
     },
     "metadata": {},
     "execution_count": 10
    }
   ],
   "cell_type": "code",
   "source": [
    "join(negate(X3), negate(X1)) |> draw_subobject"
   ],
   "metadata": {},
   "execution_count": 10
  },
  {
   "cell_type": "markdown",
   "source": [
    "Most of your propositional logic rules apply in this lattice."
   ],
   "metadata": {}
  },
  {
   "outputs": [
    {
     "output_type": "execute_result",
     "data": {
      "text/plain": "true"
     },
     "metadata": {},
     "execution_count": 11
    }
   ],
   "cell_type": "code",
   "source": [
    "is_subobject(X3, negate(join(X1, X2)))"
   ],
   "metadata": {},
   "execution_count": 11
  },
  {
   "cell_type": "markdown",
   "source": [
    "The biggest difference is that double negation is not the identity.\n",
    "While join(X1,X2) has 2 vertices and no edges,\n",
    "¬¬(X1 ∨ X2) has 2 vertices and 2 edges!\n",
    "Double negation can be used to define the \"induced subgraph\" operator\n",
    "for any class of models."
   ],
   "metadata": {}
  },
  {
   "outputs": [
    {
     "output_type": "execute_result",
     "data": {
      "text/plain": "Catlab.Graphics.Graphviz.Graph(\"G\", true, \"dot\", Catlab.Graphics.Graphviz.Statement[Catlab.Graphics.Graphviz.Node(\"n1\", OrderedCollections.OrderedDict{Symbol, Union{String, Catlab.Graphics.Graphviz.Html}}(:color => \"#6C9AC3\", :label => \"x₁[1//2:1//3]\", :shape => \"circle\")), Catlab.Graphics.Graphviz.Node(\"n2\", OrderedCollections.OrderedDict{Symbol, Union{String, Catlab.Graphics.Graphviz.Html}}(:color => \"#6C9AC3\", :label => \"x₂[1//2:1//5]\", :shape => \"circle\")), Catlab.Graphics.Graphviz.Edge(Catlab.Graphics.Graphviz.NodeID[Catlab.Graphics.Graphviz.NodeID(\"n1\", \"\", \"\"), Catlab.Graphics.Graphviz.NodeID(\"n2\", \"\", \"\")], OrderedCollections.OrderedDict{Symbol, Union{String, Catlab.Graphics.Graphviz.Html}}(:label => \"7//1\")), Catlab.Graphics.Graphviz.Edge(Catlab.Graphics.Graphviz.NodeID[Catlab.Graphics.Graphviz.NodeID(\"n1\", \"\", \"\"), Catlab.Graphics.Graphviz.NodeID(\"n2\", \"\", \"\")], OrderedCollections.OrderedDict{Symbol, Union{String, Catlab.Graphics.Graphviz.Html}}(:constraint => \"false\", :label => \"1//1\", :style => \"dotted\"))], OrderedCollections.OrderedDict{Symbol, Union{String, Catlab.Graphics.Graphviz.Html}}(:rankdir => \"LR\"), OrderedCollections.OrderedDict{Symbol, Union{String, Catlab.Graphics.Graphviz.Html}}(:shape => \"plain\", :style => \"filled\"), OrderedCollections.OrderedDict{Symbol, Union{String, Catlab.Graphics.Graphviz.Html}}(:splines => \"splines\"))",
      "image/svg+xml": [
       "<?xml version=\"1.0\" encoding=\"UTF-8\" standalone=\"no\"?>\n",
       "<!DOCTYPE svg PUBLIC \"-//W3C//DTD SVG 1.1//EN\"\n",
       " \"http://www.w3.org/Graphics/SVG/1.1/DTD/svg11.dtd\">\n",
       "<!-- Generated by graphviz version 2.43.0 (0)\n",
       " -->\n",
       "<!-- Title: G Pages: 1 -->\n",
       "<svg width=\"329pt\" height=\"137pt\"\n",
       " viewBox=\"0.00 0.00 329.38 136.69\" xmlns=\"http://www.w3.org/2000/svg\" xmlns:xlink=\"http://www.w3.org/1999/xlink\">\n",
       "<g id=\"graph0\" class=\"graph\" transform=\"scale(1 1) rotate(0) translate(4 132.69)\">\n",
       "<title>G</title>\n",
       "<polygon fill=\"white\" stroke=\"transparent\" points=\"-4,4 -4,-132.69 325.38,-132.69 325.38,4 -4,4\"/>\n",
       "<!-- n1 -->\n",
       "<g id=\"node1\" class=\"node\">\n",
       "<title>n1</title>\n",
       "<ellipse fill=\"#6c9ac3\" stroke=\"#6c9ac3\" cx=\"64.34\" cy=\"-64.34\" rx=\"64.19\" ry=\"64.19\"/>\n",
       "<text text-anchor=\"middle\" x=\"64.34\" y=\"-60.64\" font-family=\"Times,serif\" font-size=\"14.00\">x₁[1//2:1//3]</text>\n",
       "</g>\n",
       "<!-- n2 -->\n",
       "<g id=\"node2\" class=\"node\">\n",
       "<title>n2</title>\n",
       "<ellipse fill=\"#6c9ac3\" stroke=\"#6c9ac3\" cx=\"257.03\" cy=\"-64.34\" rx=\"64.19\" ry=\"64.19\"/>\n",
       "<text text-anchor=\"middle\" x=\"257.03\" y=\"-60.64\" font-family=\"Times,serif\" font-size=\"14.00\">x₂[1//2:1//5]</text>\n",
       "</g>\n",
       "<!-- n1&#45;&gt;n2 -->\n",
       "<g id=\"edge1\" class=\"edge\">\n",
       "<title>n1&#45;&gt;n2</title>\n",
       "<path fill=\"none\" stroke=\"black\" d=\"M128.84,-64.34C145.96,-64.34 164.62,-64.34 182.25,-64.34\"/>\n",
       "<polygon fill=\"black\" stroke=\"black\" points=\"182.49,-67.84 192.49,-64.34 182.49,-60.84 182.49,-67.84\"/>\n",
       "<text text-anchor=\"middle\" x=\"160.69\" y=\"-68.14\" font-family=\"Times,serif\" font-size=\"14.00\">7//1</text>\n",
       "</g>\n",
       "<!-- n1&#45;&gt;n2 -->\n",
       "<g id=\"edge2\" class=\"edge\">\n",
       "<title>n1&#45;&gt;n2</title>\n",
       "<path fill=\"none\" stroke=\"black\" stroke-dasharray=\"1,5\" d=\"M126.82,-48.42C133.49,-47.16 140.21,-46.09 146.69,-45.34 159.07,-43.92 172.18,-44.43 184.86,-45.98\"/>\n",
       "<polygon fill=\"black\" stroke=\"black\" points=\"184.51,-49.47 194.91,-47.44 185.52,-42.54 184.51,-49.47\"/>\n",
       "<text text-anchor=\"middle\" x=\"160.69\" y=\"-49.14\" font-family=\"Times,serif\" font-size=\"14.00\">1//1</text>\n",
       "</g>\n",
       "</g>\n",
       "</svg>\n"
      ]
     },
     "metadata": {},
     "execution_count": 12
    }
   ],
   "cell_type": "code",
   "source": [
    "negate(negate(join(X1, X2))) |> draw_subobject"
   ],
   "metadata": {},
   "execution_count": 12
  }
 ],
 "nbformat_minor": 3,
 "metadata": {
  "language_info": {
   "file_extension": ".jl",
   "mimetype": "application/julia",
   "name": "julia",
   "version": "1.9.2"
  },
  "kernelspec": {
   "name": "julia-1.9",
   "display_name": "Julia 1.9.2",
   "language": "julia"
  }
 },
 "nbformat": 4
}
